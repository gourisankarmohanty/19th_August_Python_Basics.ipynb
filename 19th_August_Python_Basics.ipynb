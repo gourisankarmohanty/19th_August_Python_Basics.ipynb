{
 "cells": [
  {
   "cell_type": "code",
   "execution_count": 14,
   "id": "9e57a086-5ef3-4d17-b6b0-9316b352ea09",
   "metadata": {},
   "outputs": [
    {
     "name": "stdout",
     "output_type": "stream",
     "text": [
      "The value of x: 10\n",
      "The value of y: 20\n"
     ]
    }
   ],
   "source": [
    "# 1. Declare two variables, `x` and `y`, and assign them integer values. Swap the values of these variables without using\n",
    "#    any temporary variable.\n",
    "\n",
    "# Declaring variables\n",
    "x = 20\n",
    "y = 10\n",
    "     \n",
    "# Swaping the value using addition & subtraction method.\n",
    "x = x+y\n",
    "y = x-y\n",
    "x = x-y \n",
    "    \n",
    "#print command\n",
    "print('The value of x: {}'.format(x))\n",
    "print('The value of y: {}'.format(y))\n",
    "     "
   ]
  },
  {
   "cell_type": "code",
   "execution_count": 17,
   "id": "c7464222-c413-4c32-b2fb-eb3f10b93806",
   "metadata": {},
   "outputs": [
    {
     "name": "stdin",
     "output_type": "stream",
     "text": [
      "Enter the length of the rectangle 10\n",
      "Enter the width of the rectangle 12\n"
     ]
    },
    {
     "name": "stdout",
     "output_type": "stream",
     "text": [
      "120.0\n"
     ]
    }
   ],
   "source": [
    "# 2. Create a program that calculates the area of a rectangle. Take the length and width as inputs from the user and \n",
    "#.   store them in variables. Calculate and display the area.\n",
    "\n",
    "# taking length , width variable & take input from the user\n",
    "\n",
    "length=float(input(\"Enter the length of the rectangle\"))\n",
    "width=float(input(\"Enter the width of the rectangle\"))\n",
    "\n",
    "# Area formula of the rectangle\n",
    "\n",
    "Area=length*width\n",
    "\n",
    "# Display & calcuating the area of a rectangle\n",
    "\n",
    "print(Area)"
   ]
  },
  {
   "cell_type": "code",
   "execution_count": 23,
   "id": "4f61c571-4390-4ff6-a1f7-fee0af17d250",
   "metadata": {},
   "outputs": [
    {
     "name": "stdin",
     "output_type": "stream",
     "text": [
      "Enter the temperture in Celsius 32\n"
     ]
    },
    {
     "name": "stdout",
     "output_type": "stream",
     "text": [
      "32.0 degree Celsius = 89.6 degree Fahrenheit\n"
     ]
    }
   ],
   "source": [
    "# 3. Write a Python program that converts temperatures from Celsius to Fahrenheit. Take the temperature in Celsius as input,\n",
    "#.   store it in a variable,convert it to Fahrenheit, and display the result.\n",
    "\n",
    "# Take the celsius temp from the user\n",
    "celsius_temp=float(input(\"Enter the temperture in Celsius\"))\n",
    "\n",
    "#converting the celsius into Fahrenheit\n",
    "fahrenheit_temp=(celsius_temp * 9/5) + 32\n",
    "\n",
    "# print the statment\n",
    "print(f\"{celsius_temp} degree Celsius = {fahrenheit_temp} degree Fahrenheit\")\n"
   ]
  },
  {
   "cell_type": "code",
   "execution_count": null,
   "id": "efb0f984-c009-4c31-8598-91f72ad3da29",
   "metadata": {},
   "outputs": [],
   "source": [
    "String Based Questions"
   ]
  },
  {
   "cell_type": "code",
   "execution_count": 27,
   "id": "6077f205-a159-4264-bf02-28d8ee2a8b13",
   "metadata": {},
   "outputs": [
    {
     "name": "stdin",
     "output_type": "stream",
     "text": [
      "Enter the string-  PWSKILLS\n"
     ]
    },
    {
     "name": "stdout",
     "output_type": "stream",
     "text": [
      "8\n"
     ]
    }
   ],
   "source": [
    "# 1. Write a Python program that takes a string as input and prints the length of the string.\n",
    "\n",
    "# Taking input from the user\n",
    "string=input(\"Enter the string- \")\n",
    "\n",
    "#calclating the length of the string, which taken input from the user\n",
    "string_length=len(string)\n",
    "\n",
    "#print statement for display the length of the string\n",
    "print(string_length)"
   ]
  },
  {
   "cell_type": "code",
   "execution_count": 18,
   "id": "6d55ba23-a3e5-4e9b-9fe2-70b9acf5a9e4",
   "metadata": {},
   "outputs": [
    {
     "name": "stdin",
     "output_type": "stream",
     "text": [
      "Enter a sentence:  amazon\n"
     ]
    },
    {
     "name": "stdout",
     "output_type": "stream",
     "text": [
      "Number of vowels: 3\n"
     ]
    }
   ],
   "source": [
    "# 2. Create a program that takes a sentence from the user and counts the number of vowels (a, e, i, o, u) in the string.\n",
    "\n",
    "# Taking a sentence from the user\n",
    "sentence = input(\"Enter a sentence: \")\n",
    "\n",
    "# initially the vowel count is 0\n",
    "vowel_count = 0\n",
    "\n",
    "# Iterate each character in the sentence\n",
    "for char in sentence:\n",
    "    \n",
    "# Convert the sentence character to lowercase \n",
    "    char_lower = char.lower()\n",
    "\n",
    " # Check if the character is a vowel (a, e, i, o, u)\n",
    "    if char_lower in \"aeiou\":\n",
    "        \n",
    "        vowel_count += 1\n",
    "\n",
    "# Display the result\n",
    "print(\"Number of vowels:\", vowel_count)"
   ]
  },
  {
   "cell_type": "code",
   "execution_count": 20,
   "id": "744815f4-07ee-4b0d-8c30-0e180693bb1a",
   "metadata": {},
   "outputs": [
    {
     "name": "stdin",
     "output_type": "stream",
     "text": [
      "Enter the string lab\n"
     ]
    },
    {
     "name": "stdout",
     "output_type": "stream",
     "text": [
      "Reverse string:  bal\n"
     ]
    }
   ],
   "source": [
    "# 3. Given a string, reverse the order of characters using string slicing and print the reversed string.\n",
    "\n",
    "# Taking input from the user\n",
    "input_string=input(\"Enter the string\")\n",
    "\n",
    "#Reverese the string\n",
    "reverse_string=input_string[::-1]\n",
    " \n",
    "#print the string\n",
    "print(\"Reverse string: \",reverse_string)\n",
    "                            "
   ]
  },
  {
   "cell_type": "code",
   "execution_count": 21,
   "id": "09087ccc-93f7-45dd-97ca-a1680363fe01",
   "metadata": {},
   "outputs": [
    {
     "name": "stdin",
     "output_type": "stream",
     "text": [
      "Enter the string wow\n"
     ]
    },
    {
     "name": "stdout",
     "output_type": "stream",
     "text": [
      "string is a palindrome\n"
     ]
    }
   ],
   "source": [
    "# 4.Write a program that takes a string as input and checks if it is a palindrome (reads the same forwards and backwards).\n",
    "\n",
    "# Taking input from the user\n",
    "string_input=input(\"Enter the string\")\n",
    "\n",
    "#Reverese the string\n",
    "reserve_string=string_input[::-1]\n",
    "\n",
    "# if condition formula & print statment\n",
    "if reserve_string==string_input:\n",
    " print(\"string is a palindrome\")\n",
    "else:\n",
    " print(\"string is not a palindrome\")"
   ]
  },
  {
   "cell_type": "code",
   "execution_count": null,
   "id": "a90c3532-44ac-4549-a324-408829314d48",
   "metadata": {},
   "outputs": [],
   "source": [
    "# 5. Create a program that takes a string as input and removes all the spaces from it. Print the modified string without spaces.\n",
    "\n"
   ]
  }
 ],
 "metadata": {
  "kernelspec": {
   "display_name": "Python 3 (ipykernel)",
   "language": "python",
   "name": "python3"
  },
  "language_info": {
   "codemirror_mode": {
    "name": "ipython",
    "version": 3
   },
   "file_extension": ".py",
   "mimetype": "text/x-python",
   "name": "python",
   "nbconvert_exporter": "python",
   "pygments_lexer": "ipython3",
   "version": "3.10.8"
  }
 },
 "nbformat": 4,
 "nbformat_minor": 5
}
